{
 "cells": [
  {
   "cell_type": "markdown",
   "id": "6e05393e-21f9-4c79-a110-1ebcc5b150d9",
   "metadata": {},
   "source": [
    "# **Quantum Computing — the soft way**\n",
    "### *QPlayLearn*"
   ]
  },
  {
   "cell_type": "markdown",
   "id": "8e85ca32-0a3b-4a12-ae17-717607861800",
   "metadata": {},
   "source": [
    "First of all, we install and import all the packages we are going to need to run the code"
   ]
  },
  {
   "cell_type": "code",
   "execution_count": 22,
   "id": "48dd4639-e9d6-4f8c-9c39-3aeb75deb120",
   "metadata": {},
   "outputs": [],
   "source": [
    "# Qiskit is the open-source library for quantum computing founded by IBM\n",
    "import qiskit as qk\n",
    "from qiskit.quantum_info import Statevector\n",
    "# These are packages for plotting\n",
    "import matplotlib as mpl\n",
    "import matplotlib.pyplot as plt"
   ]
  },
  {
   "cell_type": "markdown",
   "id": "bb3c8806-6bce-4f69-accf-32ae42c5b210",
   "metadata": {},
   "source": [
    "## **QC SANDBOX #1 - Amplitude game**"
   ]
  },
  {
   "cell_type": "markdown",
   "id": "8a9ceb59-7f60-4523-868a-1fb68eb8c93e",
   "metadata": {},
   "source": [
    "We have read so much about qubits, and even done some math, now it's time to put your fingers on the keyboard! Before playing the amplitude game, let's look at some basic commands on Qiskit. We'll work mostly on Qiskit as it's the most used library, but once you get the handle of it, you can easily switch to others such as QASM. \n",
    "\n",
    "Let's start by creating a quantum circuit with 1 single qubit, we can also visualise it in the same way we saw in the previous section of the course."
   ]
  },
  {
   "cell_type": "code",
   "execution_count": 20,
   "id": "b1001f74-0674-4870-8338-fec6a64db965",
   "metadata": {},
   "outputs": [
    {
     "name": "stdout",
     "output_type": "stream",
     "text": [
      "   ┌───┐\n",
      "q: ┤ X ├\n",
      "   └───┘\n"
     ]
    }
   ],
   "source": [
    "# Create a quantum circuit with 1 qubit\n",
    "num_qubits = 1\n",
    "qc = qk.QuantumCircuit(num_qubits)\n",
    "\n",
    "# Apply a X gate on the qubit\n",
    "qc.x(0)\n",
    "\n",
    "# Draw a graphical representation of the circuit (using matplotlib)\n",
    "print(qc)"
   ]
  },
  {
   "cell_type": "markdown",
   "id": "aadb4da7-1c81-494b-87ee-159e906268f8",
   "metadata": {},
   "source": [
    "As we said, the X gate transform the initial state into $\\ket{\\psi_{final}} = X \\ket{\\psi_{initial}}$. We should know  this point not "
   ]
  },
  {
   "cell_type": "code",
   "execution_count": 27,
   "id": "de4ebc7f-6366-4a49-b61b-f48344d8cff8",
   "metadata": {},
   "outputs": [
    {
     "name": "stdout",
     "output_type": "stream",
     "text": [
      "|psi> =  [0.+0.j 1.+0.j]\n"
     ]
    }
   ],
   "source": [
    "# Compute the state of corresponding to the quantum circuit\n",
    "psi = Statevector(qc)\n",
    "print(\"|psi> = \", psi.data)"
   ]
  },
  {
   "cell_type": "code",
   "execution_count": null,
   "id": "dbd6e6ce-9ba7-4aa6-bd18-ee32c817b56a",
   "metadata": {},
   "outputs": [],
   "source": []
  },
  {
   "cell_type": "markdown",
   "id": "d96b16b7-cd63-4e53-9928-84c38f4bb8da",
   "metadata": {},
   "source": [
    "Apply the correct gates so that the final state has amplitude $\\alpha = \\frac{i}{\\sqrt{2}}$ and $\\beta = \\frac{1}{\\sqrt{2}}$."
   ]
  }
 ],
 "metadata": {
  "kernelspec": {
   "display_name": "Python 3 (ipykernel)",
   "language": "python",
   "name": "python3"
  },
  "language_info": {
   "codemirror_mode": {
    "name": "ipython",
    "version": 3
   },
   "file_extension": ".py",
   "mimetype": "text/x-python",
   "name": "python",
   "nbconvert_exporter": "python",
   "pygments_lexer": "ipython3",
   "version": "3.9.16"
  }
 },
 "nbformat": 4,
 "nbformat_minor": 5
}
